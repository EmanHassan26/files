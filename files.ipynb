{
 "cells": [
  {
   "cell_type": "code",
   "execution_count": 1,
   "metadata": {},
   "outputs": [
    {
     "name": "stdout",
     "output_type": "stream",
     "text": [
      "C:\\Users\\ascom\\Untitled Folder 2\n"
     ]
    }
   ],
   "source": [
    "import os \n",
    "print ( os.getcwd())"
   ]
  },
  {
   "cell_type": "code",
   "execution_count": 12,
   "metadata": {},
   "outputs": [
    {
     "name": "stdout",
     "output_type": "stream",
     "text": [
      "emanon.txt\n",
      "r\n",
      "cp1256\n",
      "\n",
      "BIO : \n",
      "Helllo , Iam Emanon Hassan\n",
      "Iam 20 Years Old\n",
      "I love The HOPE \n",
      " \n",
      "Iam Study At FCI ,Menofia\n",
      "Bioinformatics Student \n",
      "Software Engineer\n",
      "\n",
      "I wanna be KindHeart Human\n",
      "My BFF Is Farida\n",
      "\n",
      "Love The Arts\n",
      "Love The Cats\n",
      "Love The Coffee\n",
      "\n",
      "\n",
      "\n",
      "\n"
     ]
    }
   ],
   "source": [
    "file = open(\"emanon.txt\")\n",
    "print(file.name)\n",
    "print(file.mode)\n",
    "print(file.encoding)\n",
    "print(\"\\nBIO : \")\n",
    "print(file.read())\n",
    "print(file.readline())"
   ]
  },
  {
   "cell_type": "code",
   "execution_count": null,
   "metadata": {},
   "outputs": [],
   "source": []
  }
 ],
 "metadata": {
  "kernelspec": {
   "display_name": "Python 3",
   "language": "python",
   "name": "python3"
  },
  "language_info": {
   "codemirror_mode": {
    "name": "ipython",
    "version": 3
   },
   "file_extension": ".py",
   "mimetype": "text/x-python",
   "name": "python",
   "nbconvert_exporter": "python",
   "pygments_lexer": "ipython3",
   "version": "3.7.4"
  }
 },
 "nbformat": 4,
 "nbformat_minor": 2
}
